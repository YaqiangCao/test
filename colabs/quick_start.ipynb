{
  "cells": [
    {
      "metadata": {
        "id": "_"
      },
      "cell_type": "markdown",
      "source": [
        "# test AlphaGenome"
      ]
    },
    {
      "metadata": {
        "id": "on5cvb0VoK_D"
      },
      "cell_type": "markdown",
      "source": [
        "Welcome to the quick start guide for AlphaGenome! The goal of this tutorial notebook is to quickly get you started with using the model and making predictions."
      ]
    },
    {
      "metadata": {
        "id": "XNBquB49Nk6W"
      },
      "cell_type": "markdown",
      "source": [
        "```{tip}\n",
        "Open this tutorial in Google colab for interactive viewing.\n",
        "```"
      ]
    },
    {
      "metadata": {
        "id": "W28j15ApoK_D",
        "language": "python"
      },
      "cell_type": "code",
      "source": [
        "# @title Install AlphaGenome\n",
        "\n",
        "# @markdown Run this cell to install AlphaGenome.\n",
        "from IPython.display import clear_output\n",
        "! pip install alphagenome\n",
        "clear_output()"
      ],
      "outputs": [],
      "execution_count": 1
    },
    {
      "metadata": {
        "id": "-lcTVQLvqB6F"
      },
      "cell_type": "markdown",
      "source": [
        "## Imports"
      ]
    },
    {
      "metadata": {
        "id": "KuLPy_awXaP_",
        "language": "python"
      },
      "cell_type": "code",
      "source": [
        "from alphagenome.data import gene_annotation\n",
        "from alphagenome.data import genome\n",
        "from alphagenome.data import transcript as transcript_utils\n",
        "from alphagenome.interpretation import ism\n",
        "from alphagenome.models import dna_client\n",
        "from alphagenome.models import variant_scorers\n",
        "from alphagenome.visualization import plot_components\n",
        "from alphagenome.data.genome import Interval\n",
        "import matplotlib.pyplot as plt\n",
        "import pandas as pd\n",
        "from google.colab import userdata"
      ],
      "outputs": [],
      "execution_count": 2
    },
    {
      "metadata": {
        "id": "jEGP__L4oK_E"
      },
      "cell_type": "markdown",
      "source": [
        "## Predict outputs for a DNA sequence"
      ]
    },
    {
      "metadata": {
        "id": "Bzov6O0goK_F"
      },
      "cell_type": "markdown",
      "source": [
        "AlphaGenome is a model that makes predictions from DNA sequences. Let's load it up:\n",
        "\n"
      ]
    },
    {
      "metadata": {
        "id": "toBpbthy93gr",
        "language": "python"
      },
      "cell_type": "code",
      "source": [
        "dna_model = dna_client.create(userdata.get('ALPHA_GENOME_API_KEY'))"
      ],
      "outputs": [],
      "execution_count": 22
    },
    {
      "metadata": {
        "id": "H_358E_nkYVt"
      },
      "cell_type": "markdown",
      "source": [
        "The model can make predictions for the following [output types](https://www.alphagenomedocs.com/exploring_model_metadata.html):"
      ]
    },
    {
      "metadata": {
        "id": "U2Q-amDjkYVt",
        "outputId": "7cd35ae9-3d52-4ebb-a005-2a87ef2429b2",
        "colab": {
          "base_uri": "https://localhost:8080/"
        }
      },
      "cell_type": "code",
      "source": [
        "[output.name for output in dna_client.OutputType]"
      ],
      "outputs": [
        {
          "output_type": "execute_result",
          "data": {
            "text/plain": [
              "['ATAC',\n",
              " 'CAGE',\n",
              " 'DNASE',\n",
              " 'RNA_SEQ',\n",
              " 'CHIP_HISTONE',\n",
              " 'CHIP_TF',\n",
              " 'SPLICE_SITES',\n",
              " 'SPLICE_SITE_USAGE',\n",
              " 'SPLICE_JUNCTIONS',\n",
              " 'CONTACT_MAPS',\n",
              " 'PROCAP']"
            ]
          },
          "metadata": {},
          "execution_count": 13
        }
      ],
      "execution_count": 13
    },
    {
      "metadata": {
        "id": "bHz9nXh9kYVt"
      },
      "cell_type": "markdown",
      "source": [
        "The `output` object contains predictions for all the different requested output types (in this case, only output type `DNASE`). Predictions for genomic tracks are stored inside a `TrackData` object:                                                                                                                            "
      ]
    },
    {
      "metadata": {
        "id": "rL6BQQfqkYVt"
      },
      "cell_type": "markdown",
      "source": [
        "## Predict outputs for a genome interval (reference genome)"
      ]
    },
    {
      "metadata": {
        "id": "cZuGzeStkYVt"
      },
      "cell_type": "markdown",
      "source": [
        "For convenience, you can also directly make predictions for a human reference genome sequence specified by a **genomic interval**. For example, let's predict RNA-seq for tissue 'Right liver lobe' in a 1MB region of Chromosome 19 around the gene *CYP2B6*, which encodes an enzyme involved in drug metabolism, and is primarily expressed in the liver.\n",
        "\n",
        "We first load up a GTF file containing gene and transcript locations as annotated by GENCODE (more information on GTF format [here](https://www.gencodegenes.org/pages/data_format.html)):"
      ]
    },
    {
      "metadata": {
        "id": "1WE7BBh6klIA"
      },
      "cell_type": "code",
      "source": [
        "# The GTF file contains information on the location of all trancripts.\n",
        "# Note that we use genome assembly hg38 for human.\n",
        "gtf = pd.read_feather(\n",
        "    'https://storage.googleapis.com/alphagenome/reference/gencode/'\n",
        "    'hg38/gencode.v46.annotation.gtf.gz.feather'\n",
        ")\n",
        "\n",
        "# Set up transcript extractors using the information in the GTF file.\n",
        "gtf_transcripts = gene_annotation.filter_protein_coding(gtf)\n",
        "gtf_transcripts = gene_annotation.filter_to_longest_transcript(gtf_transcripts)\n",
        "transcript_extractor = transcript_utils.TranscriptExtractor(gtf_transcripts)"
      ],
      "outputs": [],
      "execution_count": 14
    },
    {
      "metadata": {
        "id": "Q5PjqsMCkYVt"
      },
      "cell_type": "markdown",
      "source": [
        "And then fetch the gene's location as a `genome.Interval` object by passing either its `gene_symbol` (HGNC naming convention) or ENSEMBL `gene_id`:"
      ]
    },
    {
      "metadata": {
        "id": "pngLCscokYVt"
      },
      "cell_type": "code",
      "source": [
        "#interval = gene_annotation.get_gene_interval(gtf, gene_symbol='RUNX1')\n",
        "interval = Interval(\"chr21\",34774510,35131107)"
      ],
      "outputs": [],
      "execution_count": 15
    },
    {
      "cell_type": "code",
      "source": [
        "dna_client.SEQUENCE_LENGTH_500KB"
      ],
      "metadata": {
        "colab": {
          "base_uri": "https://localhost:8080/"
        },
        "id": "evCuweb960Gn",
        "outputId": "2fbf2b3f-f402-44c9-e9c8-67a6cce1c5f1"
      },
      "execution_count": 16,
      "outputs": [
        {
          "output_type": "execute_result",
          "data": {
            "text/plain": [
              "524288"
            ]
          },
          "metadata": {},
          "execution_count": 16
        }
      ]
    },
    {
      "metadata": {
        "id": "6fLrfgyvkYVt"
      },
      "cell_type": "markdown",
      "source": [
        "We can resize it to a length compatible with the model:"
      ]
    },
    {
      "metadata": {
        "id": "VV5k05MykYVt"
      },
      "cell_type": "code",
      "source": [
        "interval = interval.resize(dna_client.SEQUENCE_LENGTH_500KB)"
      ],
      "outputs": [],
      "execution_count": 17
    },
    {
      "metadata": {
        "id": "3TdgcNRskYVt",
        "outputId": "7a103b6a-9a2b-45b2-9085-6f3f371da049",
        "colab": {
          "base_uri": "https://localhost:8080/"
        }
      },
      "cell_type": "code",
      "source": [
        "interval.width"
      ],
      "outputs": [
        {
          "output_type": "execute_result",
          "data": {
            "text/plain": [
              "524288"
            ]
          },
          "metadata": {},
          "execution_count": 18
        }
      ],
      "execution_count": 18
    },
    {
      "metadata": {
        "id": "hI5hi6DckYVu"
      },
      "cell_type": "markdown",
      "source": [
        " See the [essential commands documentation](https://www.alphagenomedocs.com/colabs/essential_commands.html) for more handy commands like `resize`.\n",
        "\n",
        "Note that AlphaGenome supports the following input sequence lengths:"
      ]
    },
    {
      "metadata": {
        "id": "22gZecZTkYVu",
        "outputId": "dce13f47-0042-4795-df83-26f7ed9950f3",
        "colab": {
          "base_uri": "https://localhost:8080/"
        }
      },
      "cell_type": "code",
      "source": [
        "dna_client.SUPPORTED_SEQUENCE_LENGTHS.keys()"
      ],
      "outputs": [
        {
          "output_type": "execute_result",
          "data": {
            "text/plain": [
              "dict_keys(['SEQUENCE_LENGTH_2KB', 'SEQUENCE_LENGTH_16KB', 'SEQUENCE_LENGTH_100KB', 'SEQUENCE_LENGTH_500KB', 'SEQUENCE_LENGTH_1MB'])"
            ]
          },
          "metadata": {},
          "execution_count": 19
        }
      ],
      "execution_count": 19
    },
    {
      "metadata": {
        "id": "oRk3W7yjkYVu"
      },
      "cell_type": "markdown",
      "source": [
        "\n",
        " We can now make predictions using our interval:"
      ]
    },
    {
      "metadata": {
        "id": "ME7NH0B-kYVu",
        "outputId": "0e546c5d-fc7e-4c7b-cecf-de2787b5907d",
        "colab": {
          "base_uri": "https://localhost:8080/"
        }
      },
      "cell_type": "code",
      "source": [
        "output = dna_model.predict_interval(\n",
        "    interval=interval,\n",
        "    requested_outputs=[dna_client.OutputType.ATAC],\n",
        "    ontology_terms=[\"EFO:0002067\",\"EFO:0002784\"], #K562,GM12878\n",
        ")\n",
        "\n",
        "output.atac.values.shape"
      ],
      "outputs": [
        {
          "output_type": "execute_result",
          "data": {
            "text/plain": [
              "(524288, 2)"
            ]
          },
          "metadata": {},
          "execution_count": 30
        }
      ],
      "execution_count": 30
    },
    {
      "cell_type": "code",
      "source": [
        "output.atac"
      ],
      "metadata": {
        "id": "voT0K_5Z8P0M",
        "outputId": "550c34f8-11f5-48ef-ef80-8f47c8aa49eb",
        "colab": {
          "base_uri": "https://localhost:8080/"
        }
      },
      "execution_count": 31,
      "outputs": [
        {
          "output_type": "execute_result",
          "data": {
            "text/plain": [
              "TrackData(values=array([[0.01538086, 0.01806641],\n",
              "       [0.08300781, 0.11279297],\n",
              "       [0.00756836, 0.0088501 ],\n",
              "       ...,\n",
              "       [0.00460815, 0.00236511],\n",
              "       [0.00230408, 0.0009613 ],\n",
              "       [0.01196289, 0.00689697]], dtype=float32), metadata=                   name strand Assay title ontology_curie biosample_name  \\\n",
              "0  EFO:0002067 ATAC-seq      .    ATAC-seq    EFO:0002067           K562   \n",
              "1  EFO:0002784 ATAC-seq      .    ATAC-seq    EFO:0002784        GM12878   \n",
              "\n",
              "  biosample_type biosample_life_stage data_source endedness  \\\n",
              "0      cell_line                adult      encode    paired   \n",
              "1      cell_line                adult      encode    paired   \n",
              "\n",
              "   genetically_modified  \n",
              "0                 False  \n",
              "1                 False  , resolution=1, interval=Interval(chromosome='chr21', start=34690665, end=35214953, strand='.', name=''), uns=None)"
            ]
          },
          "metadata": {},
          "execution_count": 31
        }
      ]
    },
    {
      "metadata": {
        "id": "HZD6iGfrkYVu"
      },
      "cell_type": "markdown",
      "source": [
        "In general, you can have multiple tracks for a given ontology term. In this case, we have 3 RNA-seq tracks for the tissue \"Right liver lobe\".\n",
        "\n",
        "Let's visualise these predictions. It's helpful visualise gene transcripts alongside the predicted tracks, so we extract them here:"
      ]
    },
    {
      "metadata": {
        "id": "zU61GXrekYVu",
        "outputId": "d0ee5cb8-4523-4810-92e7-908a877aacfe",
        "colab": {
          "base_uri": "https://localhost:8080/"
        }
      },
      "cell_type": "code",
      "source": [
        "longest_transcripts = transcript_extractor.extract(interval)\n",
        "print(f'Extracted {len(longest_transcripts)} transcripts in this interval.')"
      ],
      "outputs": [
        {
          "output_type": "stream",
          "name": "stdout",
          "text": [
            "Extracted 2 transcripts in this interval.\n"
          ]
        }
      ],
      "execution_count": 32
    },
    {
      "metadata": {
        "id": "9hUwvkl_kYVu"
      },
      "cell_type": "markdown",
      "source": [
        "We also provide a [visualization basics guide](https://www.alphagenomedocs.com/visualization_library_basics.html) that integrates nicely with `TrackData` and other objects returned by the model API."
      ]
    },
    {
      "metadata": {
        "id": "MjJsLGnGkYVu",
        "outputId": "a97d4cdf-f9e3-4661-ca86-4cc67a932d0a",
        "colab": {
          "base_uri": "https://localhost:8080/",
          "height": 208
        }
      },
      "cell_type": "code",
      "source": [
        "plot_components.plot(\n",
        "    components=[\n",
        "        plot_components.TranscriptAnnotation(longest_transcripts),\n",
        "        plot_components.Tracks(output.atac),\n",
        "    ],\n",
        "    interval=output.atac.interval,\n",
        ")\n",
        "\n",
        "plt.show()"
      ],
      "outputs": [
        {
          "output_type": "display_data",
          "data": {
            "text/plain": [
              "<Figure size 2000x300 with 3 Axes>"
            ],
            "image/png": "[encoded data removed]"
          },
          "metadata": {}
        }
      ],
      "execution_count": 33
    },
    {
      "cell_type": "code",
      "source": [
        "minterval = Interval(\"chr11\",53591728,53749228) #mice Il2 locus"
      ],
      "metadata": {
        "id": "sOtRo_Q09ZNB"
      },
      "execution_count": 34,
      "outputs": []
    },
    {
      "cell_type": "code",
      "source": [
        "minterval = minterval.resize(dna_client.SEQUENCE_LENGTH_500KB)"
      ],
      "metadata": {
        "id": "V2kX68yP-EtY"
      },
      "execution_count": 35,
      "outputs": []
    },
    {
      "cell_type": "code",
      "source": [],
      "metadata": {
        "id": "eD-Kd6rX-IPk"
      },
      "execution_count": null,
      "outputs": []
    },
    {
      "metadata": {
        "id": "j6Vum-X6ILaz"
      },
      "cell_type": "markdown",
      "source": [
        "## Making mouse predictions"
      ]
    },
    {
      "cell_type": "code",
      "source": [
        "output = dna_model.predict_interval(\n",
        "    interval=minterval,\n",
        "    organism=dna_client.Organism.MUS_MUSCULUS,\n",
        "    requested_outputs=[dna_client.OutputType.DNASE],\n",
        "    ontology_terms=[\"CL:0000492\",\"CL:0000236 \"], #Th2 cell\n",
        ")\n"
      ],
      "metadata": {
        "id": "f_eUQXEh-ODH"
      },
      "execution_count": 58,
      "outputs": []
    },
    {
      "cell_type": "code",
      "source": [
        "output.dnase"
      ],
      "metadata": {
        "id": "dlDj_iTTDePL",
        "outputId": "e36f5f6d-0b51-42cc-c308-f874e9c68115",
        "colab": {
          "base_uri": "https://localhost:8080/"
        }
      },
      "execution_count": 52,
      "outputs": [
        {
          "output_type": "execute_result",
          "data": {
            "text/plain": [
              "TrackData(values=array([[0.00564575],\n",
              "       [0.00531006],\n",
              "       [0.00582886],\n",
              "       ...,\n",
              "       [0.0402832 ],\n",
              "       [0.02160645],\n",
              "       [0.01635742]], dtype=float32), metadata=                   name strand Assay title ontology_curie  \\\n",
              "0  CL:0000492 DNase-seq      .   DNase-seq     CL:0000492   \n",
              "\n",
              "               biosample_name biosample_type biosample_life_stage data_source  \\\n",
              "0  CD4-positive helper T cell   primary_cell                adult      encode   \n",
              "\n",
              "  endedness  genetically_modified  \n",
              "0    paired                 False  , resolution=1, interval=Interval(chromosome='chr11', start=53408334, end=53932622, strand='.', name=''), uns=None)"
            ]
          },
          "metadata": {},
          "execution_count": 52
        }
      ]
    },
    {
      "cell_type": "code",
      "source": [
        "mgtf = pd.read_feather(\n",
        "    'https://storage.googleapis.com/alphagenome/reference/gencode/'\n",
        "    'mm10/gencode.vM23.annotation.gtf.gz.feather'\n",
        ")\n",
        "\n",
        "# Set up transcript extractors using the information in the GTF file.\n",
        "mgtf_transcripts = gene_annotation.filter_protein_coding(mgtf)\n",
        "mgtf_transcripts = gene_annotation.filter_to_longest_transcript(mgtf_transcripts)\n",
        "mtranscript_extractor = transcript_utils.TranscriptExtractor(mgtf_transcripts)"
      ],
      "metadata": {
        "id": "VL8x-9AhBvXB"
      },
      "execution_count": 55,
      "outputs": []
    },
    {
      "cell_type": "code",
      "source": [
        "mlongest_transcripts = mtranscript_extractor.extract(minterval)"
      ],
      "metadata": {
        "id": "95R6dj7vDTP6"
      },
      "execution_count": 60,
      "outputs": []
    },
    {
      "cell_type": "code",
      "source": [
        "plot_components.plot(\n",
        "    components=[\n",
        "        plot_components.TranscriptAnnotation(mlongest_transcripts),\n",
        "        plot_components.Tracks(output.dnase),\n",
        "    ],\n",
        "    interval=output.dnase.interval,\n",
        ")\n",
        "\n",
        "plt.show()"
      ],
      "metadata": {
        "id": "pPzRG1d2BZtC",
        "outputId": "17a76924-cd6a-4865-dfca-f3028e788e03",
        "colab": {
          "base_uri": "https://localhost:8080/",
          "height": 207
        }
      },
      "execution_count": 61,
      "outputs": [
        {
          "output_type": "display_data",
          "data": {
            "text/plain": [
              "<Figure size 2000x300 with 3 Axes>"
            ],
            "image/png": "[encoded data removed]"
          },
          "metadata": {}
        }
      ]
    },
    {
      "metadata": {
        "id": "WwpupBP1hPgh"
      },
      "cell_type": "markdown",
      "source": [
        "And here is an example of calling `predict_interval` for a mouse genomic interval:"
      ]
    }
  ],
  "metadata": {
    "colab": {
      "provenance": []
    },
    "kernelspec": {
      "display_name": "Python 3",
      "name": "python3"
    },
    "language_info": {
      "name": "python"
    }
  },
  "nbformat": 4,
  "nbformat_minor": 0
}